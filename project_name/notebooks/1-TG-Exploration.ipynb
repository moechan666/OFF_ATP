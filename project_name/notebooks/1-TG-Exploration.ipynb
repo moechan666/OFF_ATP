{
 "cells": [
  {
   "cell_type": "code",
   "execution_count": 27,
   "id": "d5150428-45a5-4c90-a358-bf05d5b977ad",
   "metadata": {},
   "outputs": [],
   "source": [
    "import pandas as pd\n",
    "import numpy as np"
   ]
  },
  {
   "cell_type": "code",
   "execution_count": 28,
   "id": "24040d0e-9589-4d80-806c-6b5fdf06fc9c",
   "metadata": {},
   "outputs": [],
   "source": [
    "OFF_FILEPATH = '../data/raw/en.openfoodfacts.org.products.csv.gz'"
   ]
  },
  {
   "cell_type": "code",
   "execution_count": 37,
   "id": "ea70dcc7-7396-4f90-8d7b-1f010b22958e",
   "metadata": {},
   "outputs": [],
   "source": [
    "# 75% rows have NaN, if we just load 1_000_000 file, after dropna, we just have 25% rows, so we can in the begining load 4 times more rows,\n",
    "#in order to get 1_000_000 rows without any NaN value, but we don't want to load that huge data in the begining \n",
    "nrows = 1_000_000\n",
    "chunksize = nrows / 20\n",
    "df = pd.DataFrame() # creates an empty dataframe\n",
    "for chunk_df in pd.read_csv(OFF_FILEPATH,\n",
    "                 sep='\\t',\n",
    "                 nrows=nrows,\n",
    "                 usecols=cols.keys(),\n",
    "                 dtype=cols,\n",
    "                 chunksize=chunksize,\n",
    "                 on_bad_lines='skip'):\n",
    "    df = pd.concat([df, chunk_df.dropna()])"
   ]
  },
  {
   "cell_type": "code",
   "execution_count": null,
   "id": "4c9e4c2e-ea55-4c3f-83da-522cd8e0e32c",
   "metadata": {},
   "outputs": [],
   "source": [
    "for col in df.columns: print(col)"
   ]
  },
  {
   "cell_type": "code",
   "execution_count": 32,
   "id": "4a176625-9872-4c94-a900-2e01c5f97883",
   "metadata": {},
   "outputs": [],
   "source": [
    "cols = {'product_name': 'string',\n",
    "        'main_category_en': 'category',\n",
    "        'energy-kcal_100g': 'float32',\n",
    "        'nutriscore_grade': 'category',\n",
    "        'nutriscore_score': 'float32',\n",
    "        'ingredients_text': 'string'}"
   ]
  },
  {
   "cell_type": "code",
   "execution_count": 39,
   "id": "cef6d041-f9eb-455e-9d5f-75273ec451f2",
   "metadata": {},
   "outputs": [
    {
     "data": {
      "text/html": [
       "<div>\n",
       "<style scoped>\n",
       "    .dataframe tbody tr th:only-of-type {\n",
       "        vertical-align: middle;\n",
       "    }\n",
       "\n",
       "    .dataframe tbody tr th {\n",
       "        vertical-align: top;\n",
       "    }\n",
       "\n",
       "    .dataframe thead th {\n",
       "        text-align: right;\n",
       "    }\n",
       "</style>\n",
       "<table border=\"1\" class=\"dataframe\">\n",
       "  <thead>\n",
       "    <tr style=\"text-align: right;\">\n",
       "      <th></th>\n",
       "      <th>product_name</th>\n",
       "      <th>ingredients_text</th>\n",
       "      <th>nutriscore_score</th>\n",
       "      <th>nutriscore_grade</th>\n",
       "      <th>main_category_en</th>\n",
       "      <th>energy-kcal_100g</th>\n",
       "    </tr>\n",
       "  </thead>\n",
       "  <tbody>\n",
       "    <tr>\n",
       "      <th>81</th>\n",
       "      <td>BAguette bressan</td>\n",
       "      <td>Bâguette Bressan Pain baguette 46,2%,' farine ...</td>\n",
       "      <td>-4.0</td>\n",
       "      <td>a</td>\n",
       "      <td>Baguettes</td>\n",
       "      <td>160.0</td>\n",
       "    </tr>\n",
       "    <tr>\n",
       "      <th>199</th>\n",
       "      <td>Pâte a tartiner</td>\n",
       "      <td>50% noisettes locales (82), 29% sucre de canne...</td>\n",
       "      <td>19.0</td>\n",
       "      <td>e</td>\n",
       "      <td>Hazelnut spreads</td>\n",
       "      <td>465.0</td>\n",
       "    </tr>\n",
       "    <tr>\n",
       "      <th>309</th>\n",
       "      <td>Cranberries</td>\n",
       "      <td>Cranberries, sugar, sunflower oil.</td>\n",
       "      <td>8.0</td>\n",
       "      <td>c</td>\n",
       "      <td>Cranberries</td>\n",
       "      <td>300.0</td>\n",
       "    </tr>\n",
       "    <tr>\n",
       "      <th>371</th>\n",
       "      <td>Salade Cesar</td>\n",
       "      <td>INGREDIENTS : LAITUE. VINAIGRETTE (HUILE DE CA...</td>\n",
       "      <td>16.0</td>\n",
       "      <td>d</td>\n",
       "      <td>Leaf vegetables</td>\n",
       "      <td>290.0</td>\n",
       "    </tr>\n",
       "    <tr>\n",
       "      <th>420</th>\n",
       "      <td>Chaussons tressés aux pommes</td>\n",
       "      <td>Pâte (farine, margarines d'huile de palme et d...</td>\n",
       "      <td>9.0</td>\n",
       "      <td>c</td>\n",
       "      <td>Apple turnovers</td>\n",
       "      <td>260.0</td>\n",
       "    </tr>\n",
       "  </tbody>\n",
       "</table>\n",
       "</div>"
      ],
      "text/plain": [
       "                     product_name  \\\n",
       "81               BAguette bressan   \n",
       "199               Pâte a tartiner   \n",
       "309                   Cranberries   \n",
       "371                  Salade Cesar   \n",
       "420  Chaussons tressés aux pommes   \n",
       "\n",
       "                                      ingredients_text  nutriscore_score  \\\n",
       "81   Bâguette Bressan Pain baguette 46,2%,' farine ...              -4.0   \n",
       "199  50% noisettes locales (82), 29% sucre de canne...              19.0   \n",
       "309                 Cranberries, sugar, sunflower oil.               8.0   \n",
       "371  INGREDIENTS : LAITUE. VINAIGRETTE (HUILE DE CA...              16.0   \n",
       "420  Pâte (farine, margarines d'huile de palme et d...               9.0   \n",
       "\n",
       "    nutriscore_grade  main_category_en  energy-kcal_100g  \n",
       "81                 a         Baguettes             160.0  \n",
       "199                e  Hazelnut spreads             465.0  \n",
       "309                c       Cranberries             300.0  \n",
       "371                d   Leaf vegetables             290.0  \n",
       "420                c   Apple turnovers             260.0  "
      ]
     },
     "execution_count": 39,
     "metadata": {},
     "output_type": "execute_result"
    }
   ],
   "source": [
    "df.head(5)"
   ]
  },
  {
   "cell_type": "code",
   "execution_count": null,
   "id": "b5622720-10b5-4a0c-affe-5a38aad3985b",
   "metadata": {},
   "outputs": [],
   "source": [
    "df.isna().sum()"
   ]
  },
  {
   "cell_type": "code",
   "execution_count": 31,
   "id": "944e8de7-b329-468f-894a-29ce067c8b51",
   "metadata": {},
   "outputs": [
    {
     "data": {
      "text/plain": [
       "(278221, 6)"
      ]
     },
     "execution_count": 31,
     "metadata": {},
     "output_type": "execute_result"
    }
   ],
   "source": [
    "df.dropna().shape"
   ]
  },
  {
   "cell_type": "code",
   "execution_count": null,
   "id": "b986ec1a-8596-41a4-bb3a-5563a5041077",
   "metadata": {},
   "outputs": [],
   "source": [
    "def "
   ]
  }
 ],
 "metadata": {
  "kernelspec": {
   "display_name": "Python 3 (ipykernel)",
   "language": "python",
   "name": "python3"
  },
  "language_info": {
   "codemirror_mode": {
    "name": "ipython",
    "version": 3
   },
   "file_extension": ".py",
   "mimetype": "text/x-python",
   "name": "python",
   "nbconvert_exporter": "python",
   "pygments_lexer": "ipython3",
   "version": "3.10.9"
  }
 },
 "nbformat": 4,
 "nbformat_minor": 5
}
